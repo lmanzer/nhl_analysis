{
 "cells": [
  {
   "cell_type": "code",
   "execution_count": 1,
   "source": [
    "import pandas as pd\n",
    "import sqlalchemy as sa\n",
    "\n",
    "from src.settings import DATABASE_NAME"
   ],
   "outputs": [],
   "metadata": {}
  },
  {
   "cell_type": "code",
   "execution_count": 2,
   "source": [
    "foot_to_cm = 30.48\n",
    "inch_to_cm = 2.54\n",
    "lb_to_kg = 0.453592\n"
   ],
   "outputs": [],
   "metadata": {}
  },
  {
   "cell_type": "code",
   "execution_count": 5,
   "source": [
    "engine = sa.create_engine(f'sqlite:///{DATABASE_NAME}')"
   ],
   "outputs": [],
   "metadata": {}
  },
  {
   "cell_type": "markdown",
   "source": [
    "### Import Data"
   ],
   "metadata": {}
  },
  {
   "cell_type": "code",
   "execution_count": 6,
   "source": [
    "games = pd.read_sql_table('games', engine).drop_duplicates()\n",
    "teams = pd.read_sql_table('team_info', engine).drop_duplicates()\n",
    "player_info = pd.read_sql_table('player_info', engine).drop_duplicates()\n",
    "game_players = pd.read_sql_table('game_players', engine).drop_duplicates()\n",
    "scratches_game_stats = pd.read_sql_table(\n",
    "    'scratches_game_stats', engine).drop_duplicates()\n",
    "skater_game_stats = pd.read_sql_table(\n",
    "    'skater_game_stats', engine).drop_duplicates()\n"
   ],
   "outputs": [],
   "metadata": {}
  },
  {
   "cell_type": "markdown",
   "source": [
    "### Wrangling Data"
   ],
   "metadata": {}
  },
  {
   "cell_type": "code",
   "execution_count": 7,
   "source": [
    "# Games\n",
    "games['season_num'] = games['season'].str[:4].astype(int)"
   ],
   "outputs": [],
   "metadata": {}
  },
  {
   "cell_type": "code",
   "execution_count": 8,
   "source": [
    "# flag scratches\n",
    "scratches_game_stats['is_scratch'] = True\n",
    "game_players_w_scratch = pd.merge(game_players, scratches_game_stats[['player_id', 'game_id', 'is_scratch']], on=['game_id', 'player_id'], how='left')\n",
    "game_players_w_scratch.fillna(False, inplace=True)\n"
   ],
   "outputs": [],
   "metadata": {}
  },
  {
   "cell_type": "code",
   "execution_count": 9,
   "source": [
    "game_players_details = pd.merge(\n",
    "    games[['season_num', 'game_id', 'type']], \n",
    "    game_players_w_scratch[game_players_w_scratch['is_scratch']==False], \n",
    "    on='game_id')"
   ],
   "outputs": [],
   "metadata": {}
  },
  {
   "cell_type": "code",
   "execution_count": 10,
   "source": [
    "total_player_game_stats = game_players_details[\n",
    "    game_players_details['type'].isin(['R'])].groupby('player_id', as_index=False).agg({\n",
    "        'game_id': 'nunique',\n",
    "        'season_num': ['min', 'max', 'nunique']})\n",
    "total_player_game_stats.columns = ['_'.join(col).strip()\n",
    "                                   for col in total_player_game_stats.columns.values]\n",
    "total_player_game_stats.rename(columns={\n",
    "                               'player_id_': 'player_id',\n",
    "                               'game_id': 'game_id_nunique', \n",
    "                               'season_num_min': 'first_season_played',\n",
    "                               'season_num_max': 'last_season_played',\n",
    "                               'season_num_nunique': 'number_seasons_played',\n",
    "                               }, inplace=True)\n"
   ],
   "outputs": [],
   "metadata": {}
  },
  {
   "cell_type": "code",
   "execution_count": 11,
   "source": [
    "# Player Info\n",
    "player_info['birthYear'] = player_info['birthDate'].str[:4].astype(int)\n",
    "player_info['height_cm'] = ((player_info['height'].str.\n",
    "                             split('\\'', expand=True)[1].str.\n",
    "                             split('\"', expand=True)[0].astype(float)*inch_to_cm) +\n",
    "                            (player_info['height'].str.split(\n",
    "                                '\\'', expand=True)[0].astype(float)*foot_to_cm)\n",
    "                            )\n",
    "player_info['weight_kg'] = player_info['weight'] * lb_to_kg\n",
    "\n",
    "player_info['BMI'] = player_info['weight_kg'] / \\\n",
    "    ((player_info['height_cm']/100)**2)"
   ],
   "outputs": [],
   "metadata": {}
  },
  {
   "cell_type": "code",
   "execution_count": 12,
   "source": [
    "skater_game_stats_details = pd.merge(\n",
    "    games[['season_num', 'game_id', 'type']],\n",
    "    skater_game_stats,\n",
    "    on='game_id')\n"
   ],
   "outputs": [],
   "metadata": {}
  },
  {
   "cell_type": "code",
   "execution_count": 16,
   "source": [
    "def calculate_time_on_ice(df, col):\n",
    "\n",
    "    split_vals = df[col].str.split(':', expand=True)\n",
    "\n",
    "    split_vals.fillna(0, inplace=True)\n",
    "\n",
    "    col = (split_vals[0].astype(int) * 60 +\n",
    "           split_vals[1].astype(int))\n",
    "\n",
    "    return col\n"
   ],
   "outputs": [],
   "metadata": {}
  },
  {
   "cell_type": "code",
   "execution_count": 21,
   "source": [
    "# Skater game datatimeOnIce_seconds\n",
    "skater_game_stats_details['timeOnIce_seconds'] = calculate_time_on_ice(skater_game_stats_details, 'timeOnIce')\n",
    "skater_game_stats_details['evenTimeOnIce_seconds'] = calculate_time_on_ice(\n",
    "    skater_game_stats_details, 'evenTimeOnIce')\n",
    "\n",
    "skater_game_stats_details['shortHandedTimeOnIce_seconds'] = calculate_time_on_ice(\n",
    "    skater_game_stats_details, 'shortHandedTimeOnIce')\n",
    "\n",
    "skater_game_stats_details['powerPlayTimeOnIce_seconds'] = calculate_time_on_ice(\n",
    "    skater_game_stats_details, 'powerPlayTimeOnIce')\n"
   ],
   "outputs": [],
   "metadata": {}
  },
  {
   "cell_type": "code",
   "execution_count": 33,
   "source": [
    "games.columns"
   ],
   "outputs": [
    {
     "output_type": "execute_result",
     "data": {
      "text/plain": [
       "Index(['game_id', 'season', 'type', 'date_time_GMT', 'away_team_id',\n",
       "       'home_team_id', 'away_goals', 'home_goals', 'venue', 'outcome',\n",
       "       'season_num'],\n",
       "      dtype='object')"
      ]
     },
     "metadata": {},
     "execution_count": 33
    }
   ],
   "metadata": {}
  },
  {
   "cell_type": "code",
   "execution_count": 32,
   "source": [
    "skater_game_stats_details[\n",
    "    skater_game_stats_details['season_num']>2007\n",
    "].groupby(['season_num']).agg({'powerPlayGoals': 'mean'}).plot()\n"
   ],
   "outputs": [
    {
     "output_type": "execute_result",
     "data": {
      "text/plain": [
       "<AxesSubplot:xlabel='season_num'>"
      ]
     },
     "metadata": {},
     "execution_count": 32
    },
    {
     "output_type": "display_data",
     "data": {
      "image/png": "[encoded data removed]",
      "text/plain": [
       "<Figure size 432x288 with 1 Axes>"
      ]
     },
     "metadata": {
      "needs_background": "light"
     }
    }
   ],
   "metadata": {}
  },
  {
   "cell_type": "code",
   "execution_count": null,
   "source": [
    "player_stats = pd.merge(player_info, total_player_game_stats, on='player_id')"
   ],
   "outputs": [],
   "metadata": {}
  },
  {
   "cell_type": "markdown",
   "source": [
    "### Select Games > 2008"
   ],
   "metadata": {}
  },
  {
   "cell_type": "code",
   "execution_count": null,
   "source": [
    "games_recent = games[games['season_num']>=2008]\n",
    "game_players_recent = game_players_w_scratch[\n",
    "    game_players['game_id'].isin(games_recent['game_id'])\n",
    "    ]\n",
    "player_stats_recent = player_stats[player_stats['player_id'].isin(\n",
    "    game_players_recent['player_id'])]\n"
   ],
   "outputs": [],
   "metadata": {}
  },
  {
   "cell_type": "code",
   "execution_count": null,
   "source": [
    "player_info.groupby('birthYear')['BMI'].mean().plot()"
   ],
   "outputs": [
    {
     "output_type": "execute_result",
     "data": {
      "text/plain": [
       "<AxesSubplot:xlabel='birthYear'>"
      ]
     },
     "metadata": {},
     "execution_count": 103
    },
    {
     "output_type": "display_data",
     "data": {
      "image/png": "[encoded data removed]",
      "text/plain": [
       "<Figure size 432x288 with 1 Axes>"
      ]
     },
     "metadata": {
      "needs_background": "light"
     }
    }
   ],
   "metadata": {}
  },
  {
   "cell_type": "code",
   "execution_count": null,
   "source": [
    "player_info.groupby('birthYear')['player_id'].count().plot()"
   ],
   "outputs": [
    {
     "output_type": "execute_result",
     "data": {
      "text/plain": [
       "<AxesSubplot:xlabel='birthYear'>"
      ]
     },
     "metadata": {},
     "execution_count": 104
    },
    {
     "output_type": "display_data",
     "data": {
      "image/png": "[encoded data removed]",
      "text/plain": [
       "<Figure size 432x288 with 1 Axes>"
      ]
     },
     "metadata": {
      "needs_background": "light"
     }
    }
   ],
   "metadata": {}
  },
  {
   "cell_type": "code",
   "execution_count": null,
   "source": [
    "player_info.groupby('birthYear')['height_cm'].mean().plot()\n"
   ],
   "outputs": [
    {
     "output_type": "execute_result",
     "data": {
      "text/plain": [
       "<AxesSubplot:xlabel='birthYear'>"
      ]
     },
     "metadata": {},
     "execution_count": 105
    },
    {
     "output_type": "display_data",
     "data": {
      "image/png": "[encoded data removed]",
      "text/plain": [
       "<Figure size 432x288 with 1 Axes>"
      ]
     },
     "metadata": {
      "needs_background": "light"
     }
    }
   ],
   "metadata": {}
  },
  {
   "cell_type": "code",
   "execution_count": null,
   "source": [
    "player_info.groupby('birthYear')['weight_kg'].mean().plot()\n"
   ],
   "outputs": [
    {
     "output_type": "execute_result",
     "data": {
      "text/plain": [
       "<AxesSubplot:xlabel='birthYear'>"
      ]
     },
     "metadata": {},
     "execution_count": 89
    },
    {
     "output_type": "display_data",
     "data": {
      "image/png": "[encoded data removed]",
      "text/plain": [
       "<Figure size 432x288 with 1 Axes>"
      ]
     },
     "metadata": {
      "needs_background": "light"
     }
    }
   ],
   "metadata": {}
  },
  {
   "cell_type": "code",
   "execution_count": null,
   "source": [
    "teams_games = pd.merge(\n",
    "    games, teams, left_on='home_team_id', right_on='team_id')\n"
   ],
   "outputs": [],
   "metadata": {}
  },
  {
   "cell_type": "code",
   "execution_count": null,
   "source": [
    "teams_games[teams_games['teamName'].str.contains('Leafs')]\n"
   ],
   "outputs": [
    {
     "output_type": "execute_result",
     "data": {
      "text/html": [
       "<div>\n",
       "<style scoped>\n",
       "    .dataframe tbody tr th:only-of-type {\n",
       "        vertical-align: middle;\n",
       "    }\n",
       "\n",
       "    .dataframe tbody tr th {\n",
       "        vertical-align: top;\n",
       "    }\n",
       "\n",
       "    .dataframe thead th {\n",
       "        text-align: right;\n",
       "    }\n",
       "</style>\n",
       "<table border=\"1\" class=\"dataframe\">\n",
       "  <thead>\n",
       "    <tr style=\"text-align: right;\">\n",
       "      <th></th>\n",
       "      <th>game_id</th>\n",
       "      <th>season</th>\n",
       "      <th>type</th>\n",
       "      <th>date_time_GMT</th>\n",
       "      <th>away_team_id</th>\n",
       "      <th>home_team_id</th>\n",
       "      <th>away_goals</th>\n",
       "      <th>home_goals</th>\n",
       "      <th>venue_x</th>\n",
       "      <th>outcome</th>\n",
       "      <th>...</th>\n",
       "      <th>teamName</th>\n",
       "      <th>locationName</th>\n",
       "      <th>firstYearOfPlay</th>\n",
       "      <th>division</th>\n",
       "      <th>conference</th>\n",
       "      <th>franchise</th>\n",
       "      <th>franchise_id</th>\n",
       "      <th>shortName</th>\n",
       "      <th>officialSiteUrl</th>\n",
       "      <th>active</th>\n",
       "    </tr>\n",
       "  </thead>\n",
       "  <tbody>\n",
       "    <tr>\n",
       "      <th>7417</th>\n",
       "      <td>2005020582</td>\n",
       "      <td>20052006</td>\n",
       "      <td>R</td>\n",
       "      <td>2006-01-03T00:30:00Z</td>\n",
       "      <td>5</td>\n",
       "      <td>10</td>\n",
       "      <td>2</td>\n",
       "      <td>3</td>\n",
       "      <td>Air Canada Centre</td>\n",
       "      <td>home win OT/Shootout4</td>\n",
       "      <td>...</td>\n",
       "      <td>Maple Leafs</td>\n",
       "      <td>Toronto</td>\n",
       "      <td>1917</td>\n",
       "      <td>Atlantic</td>\n",
       "      <td>Eastern</td>\n",
       "      <td>Maple Leafs</td>\n",
       "      <td>5.0</td>\n",
       "      <td>Toronto</td>\n",
       "      <td>http://www.mapleleafs.com/</td>\n",
       "      <td>True</td>\n",
       "    </tr>\n",
       "    <tr>\n",
       "      <th>7418</th>\n",
       "      <td>2005020659</td>\n",
       "      <td>20052006</td>\n",
       "      <td>R</td>\n",
       "      <td>2006-01-15T00:00:00Z</td>\n",
       "      <td>27</td>\n",
       "      <td>10</td>\n",
       "      <td>4</td>\n",
       "      <td>3</td>\n",
       "      <td>Air Canada Centre</td>\n",
       "      <td>away win REG3</td>\n",
       "      <td>...</td>\n",
       "      <td>Maple Leafs</td>\n",
       "      <td>Toronto</td>\n",
       "      <td>1917</td>\n",
       "      <td>Atlantic</td>\n",
       "      <td>Eastern</td>\n",
       "      <td>Maple Leafs</td>\n",
       "      <td>5.0</td>\n",
       "      <td>Toronto</td>\n",
       "      <td>http://www.mapleleafs.com/</td>\n",
       "      <td>True</td>\n",
       "    </tr>\n",
       "    <tr>\n",
       "      <th>7419</th>\n",
       "      <td>2005020741</td>\n",
       "      <td>20052006</td>\n",
       "      <td>R</td>\n",
       "      <td>2006-01-27T00:30:00Z</td>\n",
       "      <td>7</td>\n",
       "      <td>10</td>\n",
       "      <td>8</td>\n",
       "      <td>4</td>\n",
       "      <td>Air Canada Centre</td>\n",
       "      <td>away win REG3</td>\n",
       "      <td>...</td>\n",
       "      <td>Maple Leafs</td>\n",
       "      <td>Toronto</td>\n",
       "      <td>1917</td>\n",
       "      <td>Atlantic</td>\n",
       "      <td>Eastern</td>\n",
       "      <td>Maple Leafs</td>\n",
       "      <td>5.0</td>\n",
       "      <td>Toronto</td>\n",
       "      <td>http://www.mapleleafs.com/</td>\n",
       "      <td>True</td>\n",
       "    </tr>\n",
       "    <tr>\n",
       "      <th>7420</th>\n",
       "      <td>2005020757</td>\n",
       "      <td>20052006</td>\n",
       "      <td>R</td>\n",
       "      <td>2006-01-29T00:00:00Z</td>\n",
       "      <td>8</td>\n",
       "      <td>10</td>\n",
       "      <td>4</td>\n",
       "      <td>3</td>\n",
       "      <td>Air Canada Centre</td>\n",
       "      <td>away win OT/Shootout4</td>\n",
       "      <td>...</td>\n",
       "      <td>Maple Leafs</td>\n",
       "      <td>Toronto</td>\n",
       "      <td>1917</td>\n",
       "      <td>Atlantic</td>\n",
       "      <td>Eastern</td>\n",
       "      <td>Maple Leafs</td>\n",
       "      <td>5.0</td>\n",
       "      <td>Toronto</td>\n",
       "      <td>http://www.mapleleafs.com/</td>\n",
       "      <td>True</td>\n",
       "    </tr>\n",
       "    <tr>\n",
       "      <th>7421</th>\n",
       "      <td>2005020803</td>\n",
       "      <td>20052006</td>\n",
       "      <td>R</td>\n",
       "      <td>2006-02-05T00:00:00Z</td>\n",
       "      <td>1</td>\n",
       "      <td>10</td>\n",
       "      <td>2</td>\n",
       "      <td>4</td>\n",
       "      <td>Air Canada Centre</td>\n",
       "      <td>home win REG3</td>\n",
       "      <td>...</td>\n",
       "      <td>Maple Leafs</td>\n",
       "      <td>Toronto</td>\n",
       "      <td>1917</td>\n",
       "      <td>Atlantic</td>\n",
       "      <td>Eastern</td>\n",
       "      <td>Maple Leafs</td>\n",
       "      <td>5.0</td>\n",
       "      <td>Toronto</td>\n",
       "      <td>http://www.mapleleafs.com/</td>\n",
       "      <td>True</td>\n",
       "    </tr>\n",
       "    <tr>\n",
       "      <th>...</th>\n",
       "      <td>...</td>\n",
       "      <td>...</td>\n",
       "      <td>...</td>\n",
       "      <td>...</td>\n",
       "      <td>...</td>\n",
       "      <td>...</td>\n",
       "      <td>...</td>\n",
       "      <td>...</td>\n",
       "      <td>...</td>\n",
       "      <td>...</td>\n",
       "      <td>...</td>\n",
       "      <td>...</td>\n",
       "      <td>...</td>\n",
       "      <td>...</td>\n",
       "      <td>...</td>\n",
       "      <td>...</td>\n",
       "      <td>...</td>\n",
       "      <td>...</td>\n",
       "      <td>...</td>\n",
       "      <td>...</td>\n",
       "      <td>...</td>\n",
       "    </tr>\n",
       "    <tr>\n",
       "      <th>8072</th>\n",
       "      <td>2020020438</td>\n",
       "      <td>20202021</td>\n",
       "      <td>R</td>\n",
       "      <td>2021-03-14T00:00:00Z</td>\n",
       "      <td>52</td>\n",
       "      <td>10</td>\n",
       "      <td>5</td>\n",
       "      <td>2</td>\n",
       "      <td>Scotiabank Arena</td>\n",
       "      <td>away win REG3</td>\n",
       "      <td>...</td>\n",
       "      <td>Maple Leafs</td>\n",
       "      <td>Toronto</td>\n",
       "      <td>1917</td>\n",
       "      <td>Atlantic</td>\n",
       "      <td>Eastern</td>\n",
       "      <td>Maple Leafs</td>\n",
       "      <td>5.0</td>\n",
       "      <td>Toronto</td>\n",
       "      <td>http://www.mapleleafs.com/</td>\n",
       "      <td>True</td>\n",
       "    </tr>\n",
       "    <tr>\n",
       "      <th>8073</th>\n",
       "      <td>2020020480</td>\n",
       "      <td>20202021</td>\n",
       "      <td>R</td>\n",
       "      <td>2021-03-19T23:00:00Z</td>\n",
       "      <td>20</td>\n",
       "      <td>10</td>\n",
       "      <td>4</td>\n",
       "      <td>3</td>\n",
       "      <td>Scotiabank Arena</td>\n",
       "      <td>away win REG3</td>\n",
       "      <td>...</td>\n",
       "      <td>Maple Leafs</td>\n",
       "      <td>Toronto</td>\n",
       "      <td>1917</td>\n",
       "      <td>Atlantic</td>\n",
       "      <td>Eastern</td>\n",
       "      <td>Maple Leafs</td>\n",
       "      <td>5.0</td>\n",
       "      <td>Toronto</td>\n",
       "      <td>http://www.mapleleafs.com/</td>\n",
       "      <td>True</td>\n",
       "    </tr>\n",
       "    <tr>\n",
       "      <th>8074</th>\n",
       "      <td>2020020490</td>\n",
       "      <td>20202021</td>\n",
       "      <td>R</td>\n",
       "      <td>2021-03-20T23:00:00Z</td>\n",
       "      <td>20</td>\n",
       "      <td>10</td>\n",
       "      <td>0</td>\n",
       "      <td>2</td>\n",
       "      <td>Scotiabank Arena</td>\n",
       "      <td>home win REG3</td>\n",
       "      <td>...</td>\n",
       "      <td>Maple Leafs</td>\n",
       "      <td>Toronto</td>\n",
       "      <td>1917</td>\n",
       "      <td>Atlantic</td>\n",
       "      <td>Eastern</td>\n",
       "      <td>Maple Leafs</td>\n",
       "      <td>5.0</td>\n",
       "      <td>Toronto</td>\n",
       "      <td>http://www.mapleleafs.com/</td>\n",
       "      <td>True</td>\n",
       "    </tr>\n",
       "    <tr>\n",
       "      <th>8075</th>\n",
       "      <td>2020020536</td>\n",
       "      <td>20202021</td>\n",
       "      <td>R</td>\n",
       "      <td>2021-03-27T23:00:00Z</td>\n",
       "      <td>22</td>\n",
       "      <td>10</td>\n",
       "      <td>3</td>\n",
       "      <td>4</td>\n",
       "      <td>Scotiabank Arena</td>\n",
       "      <td>home win OT/Shootout4</td>\n",
       "      <td>...</td>\n",
       "      <td>Maple Leafs</td>\n",
       "      <td>Toronto</td>\n",
       "      <td>1917</td>\n",
       "      <td>Atlantic</td>\n",
       "      <td>Eastern</td>\n",
       "      <td>Maple Leafs</td>\n",
       "      <td>5.0</td>\n",
       "      <td>Toronto</td>\n",
       "      <td>http://www.mapleleafs.com/</td>\n",
       "      <td>True</td>\n",
       "    </tr>\n",
       "    <tr>\n",
       "      <th>8076</th>\n",
       "      <td>2020020551</td>\n",
       "      <td>20202021</td>\n",
       "      <td>R</td>\n",
       "      <td>2021-03-29T23:00:00Z</td>\n",
       "      <td>22</td>\n",
       "      <td>10</td>\n",
       "      <td>3</td>\n",
       "      <td>2</td>\n",
       "      <td>Scotiabank Arena</td>\n",
       "      <td>away win OT/Shootout4</td>\n",
       "      <td>...</td>\n",
       "      <td>Maple Leafs</td>\n",
       "      <td>Toronto</td>\n",
       "      <td>1917</td>\n",
       "      <td>Atlantic</td>\n",
       "      <td>Eastern</td>\n",
       "      <td>Maple Leafs</td>\n",
       "      <td>5.0</td>\n",
       "      <td>Toronto</td>\n",
       "      <td>http://www.mapleleafs.com/</td>\n",
       "      <td>True</td>\n",
       "    </tr>\n",
       "  </tbody>\n",
       "</table>\n",
       "<p>660 rows × 24 columns</p>\n",
       "</div>"
      ],
      "text/plain": [
       "         game_id    season type         date_time_GMT  away_team_id  \\\n",
       "7417  2005020582  20052006    R  2006-01-03T00:30:00Z             5   \n",
       "7418  2005020659  20052006    R  2006-01-15T00:00:00Z            27   \n",
       "7419  2005020741  20052006    R  2006-01-27T00:30:00Z             7   \n",
       "7420  2005020757  20052006    R  2006-01-29T00:00:00Z             8   \n",
       "7421  2005020803  20052006    R  2006-02-05T00:00:00Z             1   \n",
       "...          ...       ...  ...                   ...           ...   \n",
       "8072  2020020438  20202021    R  2021-03-14T00:00:00Z            52   \n",
       "8073  2020020480  20202021    R  2021-03-19T23:00:00Z            20   \n",
       "8074  2020020490  20202021    R  2021-03-20T23:00:00Z            20   \n",
       "8075  2020020536  20202021    R  2021-03-27T23:00:00Z            22   \n",
       "8076  2020020551  20202021    R  2021-03-29T23:00:00Z            22   \n",
       "\n",
       "      home_team_id  away_goals  home_goals            venue_x  \\\n",
       "7417            10           2           3  Air Canada Centre   \n",
       "7418            10           4           3  Air Canada Centre   \n",
       "7419            10           8           4  Air Canada Centre   \n",
       "7420            10           4           3  Air Canada Centre   \n",
       "7421            10           2           4  Air Canada Centre   \n",
       "...            ...         ...         ...                ...   \n",
       "8072            10           5           2   Scotiabank Arena   \n",
       "8073            10           4           3   Scotiabank Arena   \n",
       "8074            10           0           2   Scotiabank Arena   \n",
       "8075            10           3           4   Scotiabank Arena   \n",
       "8076            10           3           2   Scotiabank Arena   \n",
       "\n",
       "                    outcome  ...     teamName locationName firstYearOfPlay  \\\n",
       "7417  home win OT/Shootout4  ...  Maple Leafs      Toronto            1917   \n",
       "7418          away win REG3  ...  Maple Leafs      Toronto            1917   \n",
       "7419          away win REG3  ...  Maple Leafs      Toronto            1917   \n",
       "7420  away win OT/Shootout4  ...  Maple Leafs      Toronto            1917   \n",
       "7421          home win REG3  ...  Maple Leafs      Toronto            1917   \n",
       "...                     ...  ...          ...          ...             ...   \n",
       "8072          away win REG3  ...  Maple Leafs      Toronto            1917   \n",
       "8073          away win REG3  ...  Maple Leafs      Toronto            1917   \n",
       "8074          home win REG3  ...  Maple Leafs      Toronto            1917   \n",
       "8075  home win OT/Shootout4  ...  Maple Leafs      Toronto            1917   \n",
       "8076  away win OT/Shootout4  ...  Maple Leafs      Toronto            1917   \n",
       "\n",
       "      division conference    franchise franchise_id shortName  \\\n",
       "7417  Atlantic    Eastern  Maple Leafs          5.0   Toronto   \n",
       "7418  Atlantic    Eastern  Maple Leafs          5.0   Toronto   \n",
       "7419  Atlantic    Eastern  Maple Leafs          5.0   Toronto   \n",
       "7420  Atlantic    Eastern  Maple Leafs          5.0   Toronto   \n",
       "7421  Atlantic    Eastern  Maple Leafs          5.0   Toronto   \n",
       "...        ...        ...          ...          ...       ...   \n",
       "8072  Atlantic    Eastern  Maple Leafs          5.0   Toronto   \n",
       "8073  Atlantic    Eastern  Maple Leafs          5.0   Toronto   \n",
       "8074  Atlantic    Eastern  Maple Leafs          5.0   Toronto   \n",
       "8075  Atlantic    Eastern  Maple Leafs          5.0   Toronto   \n",
       "8076  Atlantic    Eastern  Maple Leafs          5.0   Toronto   \n",
       "\n",
       "                 officialSiteUrl active  \n",
       "7417  http://www.mapleleafs.com/   True  \n",
       "7418  http://www.mapleleafs.com/   True  \n",
       "7419  http://www.mapleleafs.com/   True  \n",
       "7420  http://www.mapleleafs.com/   True  \n",
       "7421  http://www.mapleleafs.com/   True  \n",
       "...                          ...    ...  \n",
       "8072  http://www.mapleleafs.com/   True  \n",
       "8073  http://www.mapleleafs.com/   True  \n",
       "8074  http://www.mapleleafs.com/   True  \n",
       "8075  http://www.mapleleafs.com/   True  \n",
       "8076  http://www.mapleleafs.com/   True  \n",
       "\n",
       "[660 rows x 24 columns]"
      ]
     },
     "metadata": {},
     "execution_count": 32
    }
   ],
   "metadata": {}
  }
 ],
 "metadata": {
  "orig_nbformat": 4,
  "language_info": {
   "name": "python",
   "version": "3.9.6",
   "mimetype": "text/x-python",
   "codemirror_mode": {
    "name": "ipython",
    "version": 3
   },
   "pygments_lexer": "ipython3",
   "nbconvert_exporter": "python",
   "file_extension": ".py"
  },
  "kernelspec": {
   "name": "python3",
   "display_name": "Python 3.9.6 64-bit ('venv': venv)"
  },
  "interpreter": {
   "hash": "8c0306f19b214ce14dc53c6070550980a0740ca5920518b334c18206c65bf120"
  }
 },
 "nbformat": 4,
 "nbformat_minor": 2
}